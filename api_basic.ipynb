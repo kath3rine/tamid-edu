{
 "cells": [
  {
   "cell_type": "markdown",
   "metadata": {},
   "source": [
    "# Code"
   ]
  },
  {
   "cell_type": "code",
   "execution_count": 39,
   "metadata": {},
   "outputs": [],
   "source": [
    "# import + authenticate \n",
    "import pandas as pd\n",
    "import spotipy\n",
    "from spotipy.oauth2 import SpotifyClientCredentials\n",
    "\n",
    "CLIENT_ID = '30680164aa8a48eb8d6b1a6e1469f0fa'\n",
    "CLIENT_SECRET = '9a71c4a8a62043329a538ddcedd00e77'\n",
    "\n",
    "sp = spotipy.Spotify(client_credentials_manager=SpotifyClientCredentials( client_id=CLIENT_ID, \n",
    "    client_secret=CLIENT_SECRET,))"
   ]
  },
  {
   "cell_type": "code",
   "execution_count": 81,
   "metadata": {},
   "outputs": [
    {
     "data": {
      "text/html": [
       "<div>\n",
       "<style scoped>\n",
       "    .dataframe tbody tr th:only-of-type {\n",
       "        vertical-align: middle;\n",
       "    }\n",
       "\n",
       "    .dataframe tbody tr th {\n",
       "        vertical-align: top;\n",
       "    }\n",
       "\n",
       "    .dataframe thead th {\n",
       "        text-align: right;\n",
       "    }\n",
       "</style>\n",
       "<table border=\"1\" class=\"dataframe\">\n",
       "  <thead>\n",
       "    <tr style=\"text-align: right;\">\n",
       "      <th></th>\n",
       "      <th>id</th>\n",
       "      <th>title</th>\n",
       "      <th>artist</th>\n",
       "      <th>artist_id</th>\n",
       "    </tr>\n",
       "  </thead>\n",
       "  <tbody>\n",
       "    <tr>\n",
       "      <th>0</th>\n",
       "      <td>7wCmS9TTVUcIhRalDYFgPy</td>\n",
       "      <td>Where Is My Mind? - Remastered</td>\n",
       "      <td>Pixies</td>\n",
       "      <td>6zvul52xwTWzilBZl6BUbT</td>\n",
       "    </tr>\n",
       "    <tr>\n",
       "      <th>1</th>\n",
       "      <td>5xo8RrjJ9CVNrtRg2S3B1R</td>\n",
       "      <td>Motion Sickness</td>\n",
       "      <td>Phoebe Bridgers</td>\n",
       "      <td>1r1uxoy19fzMxunt3ONAkG</td>\n",
       "    </tr>\n",
       "    <tr>\n",
       "      <th>2</th>\n",
       "      <td>04mAOoQNsXmDJlyupJwmkO</td>\n",
       "      <td>Waiting Room</td>\n",
       "      <td>Phoebe Bridgers</td>\n",
       "      <td>1r1uxoy19fzMxunt3ONAkG</td>\n",
       "    </tr>\n",
       "    <tr>\n",
       "      <th>3</th>\n",
       "      <td>6UFivO2zqqPFPoQYsEMuCc</td>\n",
       "      <td>Bags</td>\n",
       "      <td>Clairo</td>\n",
       "      <td>3l0CmX0FuQjFxr8SK7Vqag</td>\n",
       "    </tr>\n",
       "    <tr>\n",
       "      <th>4</th>\n",
       "      <td>3M0lSi5WW79CXQamgSBIjx</td>\n",
       "      <td>Swim</td>\n",
       "      <td>Chase Atlantic</td>\n",
       "      <td>7cYEt1pqMgXJdq00hAwVpT</td>\n",
       "    </tr>\n",
       "  </tbody>\n",
       "</table>\n",
       "</div>"
      ],
      "text/plain": [
       "                       id                           title           artist  \\\n",
       "0  7wCmS9TTVUcIhRalDYFgPy  Where Is My Mind? - Remastered           Pixies   \n",
       "1  5xo8RrjJ9CVNrtRg2S3B1R                 Motion Sickness  Phoebe Bridgers   \n",
       "2  04mAOoQNsXmDJlyupJwmkO                    Waiting Room  Phoebe Bridgers   \n",
       "3  6UFivO2zqqPFPoQYsEMuCc                            Bags           Clairo   \n",
       "4  3M0lSi5WW79CXQamgSBIjx                            Swim   Chase Atlantic   \n",
       "\n",
       "                artist_id  \n",
       "0  6zvul52xwTWzilBZl6BUbT  \n",
       "1  1r1uxoy19fzMxunt3ONAkG  \n",
       "2  1r1uxoy19fzMxunt3ONAkG  \n",
       "3  3l0CmX0FuQjFxr8SK7Vqag  \n",
       "4  7cYEt1pqMgXJdq00hAwVpT  "
      ]
     },
     "execution_count": 81,
     "metadata": {},
     "output_type": "execute_result"
    }
   ],
   "source": [
    "# create playlists\n",
    "USER1 = 'kli17'\n",
    "USER2 = 'cranefly07'\n",
    "PID1 = 'https://open.spotify.com/playlist/2slxWN6lEj7KF4Z3CSO7XN?si=8f35afdf2ffa4d96'\n",
    "PID2 = 'https://open.spotify.com/playlist/1sa38ykEGPNjjbX5ht0lZq?si=f035cf0f113143cb'\n",
    "\n",
    "def create_playlist(username, pid):\n",
    "    data = sp.user_playlist(username, pid, 'tracks')['tracks']\n",
    "\n",
    "    columns = ['id', 'title', 'artist', 'artist_id']\n",
    "    ids = []\n",
    "    titles = []\n",
    "    artists = []\n",
    "    artist_ids = []\n",
    "\n",
    "    for track in data['items']:\n",
    "        ids.append(track['track']['id'])\n",
    "        titles.append(track['track']['name'])\n",
    "        artists.append(track['track']['artists'][0]['name'])\n",
    "        artist_ids.append(track['track']['artists'][0]['id'])\n",
    "\n",
    "\n",
    "    df = pd.DataFrame(columns=columns)\n",
    "    df['id'] = ids\n",
    "    df['title'] = titles\n",
    "    df['artist'] = artists\n",
    "    df['artist_id'] = artist_ids\n",
    "\n",
    "    return df\n",
    "\n",
    "\n",
    "pl1 = create_playlist(USER1, PID1)\n",
    "pl2 = create_playlist(USER2, PID2)\n",
    "\n",
    "pl1.head()\n",
    "\n"
   ]
  },
  {
   "cell_type": "code",
   "execution_count": 41,
   "metadata": {},
   "outputs": [
    {
     "data": {
      "text/html": [
       "<div>\n",
       "<style scoped>\n",
       "    .dataframe tbody tr th:only-of-type {\n",
       "        vertical-align: middle;\n",
       "    }\n",
       "\n",
       "    .dataframe tbody tr th {\n",
       "        vertical-align: top;\n",
       "    }\n",
       "\n",
       "    .dataframe thead th {\n",
       "        text-align: right;\n",
       "    }\n",
       "</style>\n",
       "<table border=\"1\" class=\"dataframe\">\n",
       "  <thead>\n",
       "    <tr style=\"text-align: right;\">\n",
       "      <th></th>\n",
       "      <th>id</th>\n",
       "      <th>title</th>\n",
       "      <th>artist</th>\n",
       "      <th>artist_id</th>\n",
       "    </tr>\n",
       "  </thead>\n",
       "  <tbody>\n",
       "    <tr>\n",
       "      <th>0</th>\n",
       "      <td>55N8cxpE1QDoeaaNqUnoZ2</td>\n",
       "      <td>Bad Decisions</td>\n",
       "      <td>The Strokes</td>\n",
       "      <td>0epOFNiUfyON9EYx7Tpr6V</td>\n",
       "    </tr>\n",
       "    <tr>\n",
       "      <th>1</th>\n",
       "      <td>6qZjm61s6u8Ead9sWxCDro</td>\n",
       "      <td>Elephant</td>\n",
       "      <td>Tame Impala</td>\n",
       "      <td>5INjqkS1o8h1imAzPqGZBb</td>\n",
       "    </tr>\n",
       "    <tr>\n",
       "      <th>2</th>\n",
       "      <td>2X485T9Z5Ly0xyaghN73ed</td>\n",
       "      <td>Let It Happen</td>\n",
       "      <td>Tame Impala</td>\n",
       "      <td>5INjqkS1o8h1imAzPqGZBb</td>\n",
       "    </tr>\n",
       "    <tr>\n",
       "      <th>3</th>\n",
       "      <td>6K4t31amVTZDgR3sKmwUJJ</td>\n",
       "      <td>The Less I Know The Better</td>\n",
       "      <td>Tame Impala</td>\n",
       "      <td>5INjqkS1o8h1imAzPqGZBb</td>\n",
       "    </tr>\n",
       "    <tr>\n",
       "      <th>4</th>\n",
       "      <td>1OxcIUqVmVYxT6427tbhDW</td>\n",
       "      <td>Fly Away</td>\n",
       "      <td>Lenny Kravitz</td>\n",
       "      <td>5gznATMVO85ZcLTkE9ULU7</td>\n",
       "    </tr>\n",
       "  </tbody>\n",
       "</table>\n",
       "</div>"
      ],
      "text/plain": [
       "                       id                       title         artist  \\\n",
       "0  55N8cxpE1QDoeaaNqUnoZ2               Bad Decisions    The Strokes   \n",
       "1  6qZjm61s6u8Ead9sWxCDro                    Elephant    Tame Impala   \n",
       "2  2X485T9Z5Ly0xyaghN73ed               Let It Happen    Tame Impala   \n",
       "3  6K4t31amVTZDgR3sKmwUJJ  The Less I Know The Better    Tame Impala   \n",
       "4  1OxcIUqVmVYxT6427tbhDW                    Fly Away  Lenny Kravitz   \n",
       "\n",
       "                artist_id  \n",
       "0  0epOFNiUfyON9EYx7Tpr6V  \n",
       "1  5INjqkS1o8h1imAzPqGZBb  \n",
       "2  5INjqkS1o8h1imAzPqGZBb  \n",
       "3  5INjqkS1o8h1imAzPqGZBb  \n",
       "4  5gznATMVO85ZcLTkE9ULU7  "
      ]
     },
     "execution_count": 41,
     "metadata": {},
     "output_type": "execute_result"
    }
   ],
   "source": [
    "pl2.head()"
   ]
  },
  {
   "cell_type": "code",
   "execution_count": 82,
   "metadata": {},
   "outputs": [
    {
     "name": "stdout",
     "output_type": "stream",
     "text": [
      "Songs both people like are: 'Bags', 'About You'\n",
      "\n",
      "Artists both people like are: 'Clairo', 'Arctic Monkeys', 'The 1975', 'Radiohead'\n",
      "\n"
     ]
    }
   ],
   "source": [
    "# find shared features between two playlists\n",
    "def find_shared(lst1, lst2):\n",
    "    shared = []\n",
    "    for i in lst1:\n",
    "        for j in lst2:\n",
    "            if i == j and i not in shared:\n",
    "                shared.append(i)\n",
    "    return shared\n",
    "\n",
    "shared_songs = find_shared(pl1['title'], pl2['title'])\n",
    "shared_artists = find_shared(pl1['artist'], pl2['artist'])\n",
    "\n",
    "if (len(shared_songs) > 0):\n",
    "    print(\"Songs both people like are: \" + str(shared_songs)[1:-1] + \"\\n\")\n",
    "else:\n",
    "    print(\"You don't like any of the same songs\")\n",
    "\n",
    "if (len(shared_artists) > 0):\n",
    "    print(\"Artists both people like are: \" + str(shared_artists)[1:-1] + \"\\n\")\n",
    "else:\n",
    "    print(\"You don't like any of the same artists\")\n"
   ]
  },
  {
   "cell_type": "code",
   "execution_count": 84,
   "metadata": {},
   "outputs": [
    {
     "name": "stdout",
     "output_type": "stream",
     "text": [
      "Recommended songs: 'Brianstorm by Arctic Monkeys', 'My Favorite Fish by Gus Dapperton', 'Robbers by The 1975', 'Frou-frou Foxes in Midsummer Fires by Cocteau Twins', 'Dressed to Kill by The Wombats', 'I Think I Met You In A Dream by COIN', 'SLOW DANCING IN THE DARK by Joji', '1980s Horror Film II by Wallows', 'Crystal Clear by Hayley Williams', 'April by Jakob'\n"
     ]
    }
   ],
   "source": [
    "# get recommendations\n",
    "recs = []\n",
    "rec_data = sp.recommendations(seed_artists=find_shared(pl1['artist_id'], pl2['artist_id']), limit=10)['tracks']\n",
    "for track in rec_data:\n",
    "    recs.append(str(track['name']) + \" by \" + track['artists'][0]['name'])\n",
    "\n",
    "print(\"Recommended songs: \" + str(recs)[1:-1])\n"
   ]
  },
  {
   "cell_type": "markdown",
   "metadata": {},
   "source": [
    "# Process\n",
    "First, I obtained client keys from Spotify's developer hub, which allowed me to utilize their API and retrieve the songs/data in two people's playlists (defined by the USER1/PID1 and USER2/PID2 constants). Then, I iterated through their playlist to select the songs and artists that they both listened to, and used them as seeds to generate recommendations for similar songs. I didn't run into any major difficulties, because I've already used this API before."
   ]
  }
 ],
 "metadata": {
  "kernelspec": {
   "display_name": "Python 3.9.13 ('base')",
   "language": "python",
   "name": "python3"
  },
  "language_info": {
   "codemirror_mode": {
    "name": "ipython",
    "version": 3
   },
   "file_extension": ".py",
   "mimetype": "text/x-python",
   "name": "python",
   "nbconvert_exporter": "python",
   "pygments_lexer": "ipython3",
   "version": "3.9.13"
  },
  "orig_nbformat": 4,
  "vscode": {
   "interpreter": {
    "hash": "69dd409b9ebcd37b18fceeef992a5e276e8db19be5f3a9919b57bca4cd0bcd24"
   }
  }
 },
 "nbformat": 4,
 "nbformat_minor": 2
}
